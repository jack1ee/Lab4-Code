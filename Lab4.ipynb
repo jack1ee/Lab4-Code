{
 "cells": [
  {
   "cell_type": "markdown",
   "metadata": {
    "collapsed": false
   },
   "source": [
    "# Overview\n",
    "\n",
    "In this lab, you will complete a handwriten digit recognition  number recognition using a basic feed forward neural network"
   ]
  },
  {
   "cell_type": "code",
   "execution_count": null,
   "metadata": {
    "collapsed": false,
    "pycharm": {
     "is_executing": true
    }
   },
   "outputs": [],
   "source": [
    "!pip3 install torch\n",
    "!pip3 install torchvision\n",
    "!pip3 install tqdm\n",
    "!pip3 install torchmetrics\n",
    "!pip3 install matplotlib\n",
    "!pip3 install scipy\n",
    "!pip3 install scikit-learn"
   ]
  },
  {
   "cell_type": "code",
   "execution_count": 1,
   "metadata": {
    "collapsed": false
   },
   "outputs": [
    {
     "name": "stderr",
     "output_type": "stream",
     "text": [
      "e:\\Anaconda\\envs\\ai_lab3\\lib\\site-packages\\tqdm\\auto.py:22: TqdmWarning: IProgress not found. Please update jupyter and ipywidgets. See https://ipywidgets.readthedocs.io/en/stable/user_install.html\n",
      "  from .autonotebook import tqdm as notebook_tqdm\n"
     ]
    }
   ],
   "source": [
    "import torch\n",
    "import torchvision\n",
    "from torch.utils.data import DataLoader\n",
    "import matplotlib.pyplot as plt\n",
    "import math\n",
    "import numpy as np\n",
    "from scipy.stats import norm\n",
    "from torch import nn\n",
    "from tqdm import tqdm\n",
    "from torch import optim\n",
    "from torch.nn import functional\n",
    "import torchmetrics\n",
    "import statistics\n",
    "%matplotlib inline"
   ]
  },
  {
   "cell_type": "markdown",
   "metadata": {
    "collapsed": false
   },
   "source": [
    "## introduction to tensors\n",
    "\n",
    "Tensors are multi-dimensional arrays with a uniform type, here is an example a 3 3-axis tensor"
   ]
  },
  {
   "cell_type": "code",
   "execution_count": 2,
   "metadata": {
    "collapsed": false
   },
   "outputs": [],
   "source": [
    "t= torch.tensor(\n",
    "[\n",
    "  [[0, 1, 2, 3, 4],\n",
    "   [5, 6, 7, 8, 9]],\n",
    "  [[10, 11, 12, 13, 14],\n",
    "   [15, 16, 17, 18, 19]],\n",
    "  [[20, 21, 22, 23, 24],\n",
    "   [25, 26, 27, 28, 29]],]\n",
    ")"
   ]
  },
  {
   "cell_type": "markdown",
   "metadata": {
    "collapsed": false
   },
   "source": [
    "here is what it looks like:"
   ]
  },
  {
   "cell_type": "markdown",
   "metadata": {
    "collapsed": false
   },
   "source": [
    "![image](Resources/tensor.png)"
   ]
  },
  {
   "cell_type": "markdown",
   "metadata": {
    "collapsed": false
   },
   "source": [
    "Try to  understand it with it's shape:"
   ]
  },
  {
   "cell_type": "code",
   "execution_count": 3,
   "metadata": {
    "collapsed": false
   },
   "outputs": [
    {
     "data": {
      "text/plain": [
       "torch.Size([3, 2, 5])"
      ]
     },
     "execution_count": 3,
     "metadata": {},
     "output_type": "execute_result"
    }
   ],
   "source": [
    "t.shape"
   ]
  },
  {
   "cell_type": "markdown",
   "metadata": {
    "collapsed": false
   },
   "source": [
    "you can switch dimension by transpose them"
   ]
  },
  {
   "cell_type": "code",
   "execution_count": 4,
   "metadata": {
    "collapsed": false
   },
   "outputs": [
    {
     "data": {
      "text/plain": [
       "torch.Size([2, 3, 5])"
      ]
     },
     "execution_count": 4,
     "metadata": {},
     "output_type": "execute_result"
    }
   ],
   "source": [
    "t_p = torch.transpose(t, 0, 1)\n",
    "t_p.shape"
   ]
  },
  {
   "cell_type": "markdown",
   "metadata": {
    "collapsed": false
   },
   "source": [
    "Or fuse several dimension by reshape it:"
   ]
  },
  {
   "cell_type": "code",
   "execution_count": 5,
   "metadata": {
    "collapsed": false
   },
   "outputs": [
    {
     "data": {
      "text/plain": [
       "torch.Size([6, 5])"
      ]
     },
     "execution_count": 5,
     "metadata": {},
     "output_type": "execute_result"
    }
   ],
   "source": [
    "t_r = torch.reshape(t, [6, 5])\n",
    "t_r.shape"
   ]
  },
  {
   "cell_type": "markdown",
   "metadata": {
    "collapsed": false
   },
   "source": [
    "**Q:** Please find 2 way to transform the tensor `t` into shape of [10, 3], and state what the different between these two methods"
   ]
  },
  {
   "cell_type": "code",
   "execution_count": 6,
   "metadata": {
    "collapsed": false
   },
   "outputs": [
    {
     "name": "stdout",
     "output_type": "stream",
     "text": [
      "t_result1 torch.Size([10, 3])\n",
      "t_result2 torch.Size([10, 3])\n"
     ]
    }
   ],
   "source": [
    "t_result1 = torch.reshape(t, [10, 3])\n",
    "t_result2 = t.view(10,3)\n",
    "\n",
    "print(\"t_result1\",t_result1.shape)\n",
    "print(\"t_result2\",t_result2.shape)"
   ]
  },
  {
   "cell_type": "markdown",
   "metadata": {
    "collapsed": false
   },
   "source": [
    "## Download and load dataset\n",
    "\n",
    "> MNIST stands for Mixed National Institute of Standards and Technology, which has produced a handwritten digits dataset. This is one of the most researched datasets in machine learning, and is used to classify handwritten digits. This dataset is helpful for predictive analytics because of its sheer size, allowing deep learning to work its magic efficiently. This dataset contains 60,000 training images and 10,000 testing images, formatted as 28 x 28 pixel monochrome images.\n",
    "\n",
    "here we are using the **DataLoader** to build the input data. The Data loader Combines a dataset and a sampler, and provides an iterable over the given dataset.\n",
    "It allows us to load data in a small batch at one time, while loading them all at once may make the training process too computationally heavy for your device.\n",
    "\n",
    "[reference for dataloader](https://pytorch.org/docs/stable/data.html)"
   ]
  },
  {
   "cell_type": "code",
   "execution_count": 7,
   "metadata": {
    "collapsed": false
   },
   "outputs": [],
   "source": [
    "batch_size_train = 128\n",
    "batch_size_test = 128"
   ]
  },
  {
   "cell_type": "code",
   "execution_count": 8,
   "metadata": {
    "collapsed": false
   },
   "outputs": [],
   "source": [
    "    #load data\n",
    "train_loader = torch.utils.data.DataLoader(\n",
    "    torchvision.datasets.MNIST('./data/', train=True, download=True, transform=torchvision.transforms.ToTensor()),\n",
    "    batch_size=batch_size_train, shuffle=True)\n",
    "test_loader = torch.utils.data.DataLoader(\n",
    "    torchvision.datasets.MNIST('./data/', train=False, download=True, transform=torchvision.transforms.ToTensor()),\n",
    "    batch_size=batch_size_test, shuffle=True)"
   ]
  },
  {
   "cell_type": "markdown",
   "metadata": {
    "collapsed": false
   },
   "source": [
    "## illustrate example data\n",
    "\n",
    "here we pick first batch of data, to see what it looks like and its shape when become a tensor."
   ]
  },
  {
   "cell_type": "code",
   "execution_count": 9,
   "metadata": {
    "collapsed": false
   },
   "outputs": [
    {
     "name": "stdout",
     "output_type": "stream",
     "text": [
      "torch.Size([128, 1, 28, 28])\n"
     ]
    }
   ],
   "source": [
    "examples = enumerate(test_loader)\n",
    "index, (example_data, example_labels) = next(examples)\n",
    "print(example_data.shape)"
   ]
  },
  {
   "cell_type": "code",
   "execution_count": 9,
   "metadata": {
    "collapsed": true
   },
   "outputs": [
    {
     "data": {
      "image/png": "[encoded data removed]",
      "text/plain": [
       "<Figure size 432x288 with 6 Axes>"
      ]
     },
     "metadata": {
      "needs_background": "light"
     },
     "output_type": "display_data"
    }
   ],
   "source": [
    "#plot firtst 6 data in in test set\n",
    "ig, axes = plt.subplots(nrows=2, ncols=3)\n",
    "\n",
    "for index_row, row_axes in enumerate(axes):\n",
    "    for index_col, ax in enumerate(row_axes):\n",
    "        i = index_row*3 + index_col\n",
    "        ax.imshow(example_data[i].numpy().squeeze(), cmap=\"Greys\")"
   ]
  },
  {
   "cell_type": "markdown",
   "metadata": {
    "collapsed": false
   },
   "source": [
    "## Data preprocessing\n",
    "\n",
    "here we use adjusted standardize for image, in case of the stds become zero. the formula is:\n",
    "\n",
    "$$\n",
    "output = \\frac{x-\\mu}{\\hat{\\sigma}} \\\\\n",
    "\\hat{\\sigma} = max(\\sigma, \\frac{1.0}{\\sqrt{N}})\n",
    "$$"
   ]
  },
  {
   "cell_type": "code",
   "execution_count": 10,
   "metadata": {
    "collapsed": false
   },
   "outputs": [
    {
     "data": {
      "text/plain": [
       "<matplotlib.legend.Legend at 0x11d0c63a820>"
      ]
     },
     "execution_count": 10,
     "metadata": {},
     "output_type": "execute_result"
    },
    {
     "data": {
      "image/png": "[encoded data removed]",
      "text/plain": [
       "<Figure size 432x288 with 1 Axes>"
      ]
     },
     "metadata": {
      "needs_background": "light"
     },
     "output_type": "display_data"
    }
   ],
   "source": [
    "#preprocessing\n",
    "def standardize(data, dim):\n",
    "    means = data.mean(dim = dim, keepdims=True)\n",
    "    stds = data.std(dim = dim, keepdims=True)\n",
    "    stds = torch.maximum(stds, torch.tensor(1./math.sqrt(28*28)))\n",
    "    return (data - means) / stds\n",
    "\n",
    "example_data_standardized = standardize(example_data, dim=(-2, -1))\n",
    "fig, ax = plt.subplots()\n",
    "ax.hist(example_data_standardized[0].numpy().flatten(), density=True, label=\"data distribution\")\n",
    "\n",
    "x = np.arange(-3, 3, 0.01)\n",
    "ax.plot(x, norm.pdf(x, 0, 1.), label=\"standard norm distribution\")\n",
    "plt.legend()\n"
   ]
  },
  {
   "cell_type": "markdown",
   "metadata": {
    "collapsed": false
   },
   "source": [
    "## building the feed forward neural network\n",
    "\n",
    "there are 5 hidden layers. The first 4 layers use Relu for activation, while the last layer use softmax as input\n",
    "\n",
    "[how to build neural network in pytorch](https://pytorch.org/tutorials/beginner/basics/buildmodel_tutorial.html)\n",
    "[category of all pytorch layers(modules)](https://pytorch.org/docs/stable/nn.html#loss-functions)\n",
    "\n",
    "**Q**: why we need softmax as the last activation function?"
   ]
  },
  {
   "cell_type": "code",
   "execution_count": 32,
   "metadata": {
    "collapsed": false
   },
   "outputs": [],
   "source": [
    "model = nn.Sequential(\n",
    "    nn.Linear(28*28, 128),\n",
    "    nn.ReLU(),\n",
    "    nn.Linear(128, 128),\n",
    "    nn.ReLU(),\n",
    "    nn.Linear(128, 256),\n",
    "    nn.ReLU(),\n",
    "    nn.Linear(256, 256),\n",
    "    nn.ReLU(),\n",
    "    nn.Linear(256, 10),\n",
    "    nn.Softmax(dim=-1)\n",
    ")"
   ]
  },
  {
   "cell_type": "code",
   "execution_count": 25,
   "metadata": {},
   "outputs": [],
   "source": [
    "def create_model():\n",
    "  model = nn.Sequential(\n",
    "    nn.Linear(28*28, 128),\n",
    "    nn.ReLU(),\n",
    "    nn.Linear(128, 128),\n",
    "    nn.ReLU(),\n",
    "    nn.Linear(128, 256),\n",
    "    nn.ReLU(),\n",
    "    nn.Linear(256, 256),\n",
    "    nn.ReLU(),\n",
    "    nn.Linear(256, 10),\n",
    "    nn.Softmax(dim=-1)\n",
    "  )\n",
    "  return model"
   ]
  },
  {
   "cell_type": "markdown",
   "metadata": {
    "collapsed": false
   },
   "source": [
    "## training the model\n",
    "\n",
    "we use **cross entropy** as loss function and **stochastic gradient descent(SDG)** as optimizer\n",
    "\n",
    "[how to train a pytorch model](https://pytorch.org/tutorials/beginner/introyt/trainingyt.html)"
   ]
  },
  {
   "cell_type": "code",
   "execution_count": 33,
   "metadata": {
    "collapsed": false
   },
   "outputs": [
    {
     "name": "stderr",
     "output_type": "stream",
     "text": [
      "epoch: 0: 100%|██████████| 469/469 [00:07<00:00, 62.30it/s, batch_accuracy=0.281, loss=2.22] \n"
     ]
    },
    {
     "name": "stdout",
     "output_type": "stream",
     "text": [
      "test_accuracy=0.36090001463890076, "
     ]
    },
    {
     "name": "stderr",
     "output_type": "stream",
     "text": [
      "epoch: 1: 100%|██████████| 469/469 [00:08<00:00, 53.02it/s, batch_accuracy=0.75, loss=1.72] \n"
     ]
    },
    {
     "name": "stdout",
     "output_type": "stream",
     "text": [
      "test_accuracy=0.7915999889373779, "
     ]
    },
    {
     "name": "stderr",
     "output_type": "stream",
     "text": [
      "epoch: 2: 100%|██████████| 469/469 [00:08<00:00, 53.50it/s, batch_accuracy=0.802, loss=1.66]\n"
     ]
    },
    {
     "name": "stdout",
     "output_type": "stream",
     "text": [
      "test_accuracy=0.8242999911308289, "
     ]
    },
    {
     "name": "stderr",
     "output_type": "stream",
     "text": [
      "epoch: 3: 100%|██████████| 469/469 [00:08<00:00, 53.61it/s, batch_accuracy=0.792, loss=1.67]\n"
     ]
    },
    {
     "name": "stdout",
     "output_type": "stream",
     "text": [
      "test_accuracy=0.8310999870300293, "
     ]
    },
    {
     "name": "stderr",
     "output_type": "stream",
     "text": [
      "epoch: 4: 100%|██████████| 469/469 [00:08<00:00, 53.57it/s, batch_accuracy=0.958, loss=1.51]\n"
     ]
    },
    {
     "name": "stdout",
     "output_type": "stream",
     "text": [
      "test_accuracy=0.9326000213623047, "
     ]
    },
    {
     "name": "stderr",
     "output_type": "stream",
     "text": [
      "epoch: 5: 100%|██████████| 469/469 [00:08<00:00, 53.03it/s, batch_accuracy=0.927, loss=1.53]\n"
     ]
    },
    {
     "name": "stdout",
     "output_type": "stream",
     "text": [
      "test_accuracy=0.9398000240325928, "
     ]
    },
    {
     "name": "stderr",
     "output_type": "stream",
     "text": [
      "epoch: 6: 100%|██████████| 469/469 [00:08<00:00, 53.57it/s, batch_accuracy=1, loss=1.48]    \n"
     ]
    },
    {
     "name": "stdout",
     "output_type": "stream",
     "text": [
      "test_accuracy=0.9534000158309937, "
     ]
    },
    {
     "name": "stderr",
     "output_type": "stream",
     "text": [
      "epoch: 7: 100%|██████████| 469/469 [00:08<00:00, 53.31it/s, batch_accuracy=0.99, loss=1.48] \n"
     ]
    },
    {
     "name": "stdout",
     "output_type": "stream",
     "text": [
      "test_accuracy=0.9524000287055969, "
     ]
    },
    {
     "name": "stderr",
     "output_type": "stream",
     "text": [
      "epoch: 8: 100%|██████████| 469/469 [00:08<00:00, 52.12it/s, batch_accuracy=0.979, loss=1.49]\n"
     ]
    },
    {
     "name": "stdout",
     "output_type": "stream",
     "text": [
      "test_accuracy=0.9585000276565552, "
     ]
    },
    {
     "name": "stderr",
     "output_type": "stream",
     "text": [
      "epoch: 9: 100%|██████████| 469/469 [00:08<00:00, 54.33it/s, batch_accuracy=0.948, loss=1.51]\n"
     ]
    },
    {
     "name": "stdout",
     "output_type": "stream",
     "text": [
      "test_accuracy=0.9623000025749207, "
     ]
    },
    {
     "name": "stderr",
     "output_type": "stream",
     "text": [
      "epoch: 10: 100%|██████████| 469/469 [00:08<00:00, 52.91it/s, batch_accuracy=0.958, loss=1.51]\n"
     ]
    },
    {
     "name": "stdout",
     "output_type": "stream",
     "text": [
      "test_accuracy=0.9643999934196472, "
     ]
    },
    {
     "name": "stderr",
     "output_type": "stream",
     "text": [
      "epoch: 11: 100%|██████████| 469/469 [00:09<00:00, 52.08it/s, batch_accuracy=0.99, loss=1.49] \n"
     ]
    },
    {
     "name": "stdout",
     "output_type": "stream",
     "text": [
      "test_accuracy=0.965399980545044, "
     ]
    },
    {
     "name": "stderr",
     "output_type": "stream",
     "text": [
      "epoch: 12: 100%|██████████| 469/469 [00:08<00:00, 52.38it/s, batch_accuracy=0.969, loss=1.5] \n"
     ]
    },
    {
     "name": "stdout",
     "output_type": "stream",
     "text": [
      "test_accuracy=0.9682999849319458, "
     ]
    },
    {
     "name": "stderr",
     "output_type": "stream",
     "text": [
      "epoch: 13: 100%|██████████| 469/469 [00:09<00:00, 51.98it/s, batch_accuracy=0.99, loss=1.47] \n"
     ]
    },
    {
     "name": "stdout",
     "output_type": "stream",
     "text": [
      "test_accuracy=0.9624000191688538, "
     ]
    },
    {
     "name": "stderr",
     "output_type": "stream",
     "text": [
      "epoch: 14: 100%|██████████| 469/469 [00:08<00:00, 53.35it/s, batch_accuracy=0.979, loss=1.48]\n"
     ]
    },
    {
     "name": "stdout",
     "output_type": "stream",
     "text": [
      "test_accuracy=0.9697999954223633, "
     ]
    },
    {
     "name": "stderr",
     "output_type": "stream",
     "text": [
      "epoch: 15: 100%|██████████| 469/469 [00:08<00:00, 52.84it/s, batch_accuracy=0.979, loss=1.48]\n"
     ]
    },
    {
     "name": "stdout",
     "output_type": "stream",
     "text": [
      "test_accuracy=0.9695000052452087, "
     ]
    },
    {
     "name": "stderr",
     "output_type": "stream",
     "text": [
      "epoch: 16: 100%|██████████| 469/469 [00:08<00:00, 52.51it/s, batch_accuracy=0.99, loss=1.47] \n"
     ]
    },
    {
     "name": "stdout",
     "output_type": "stream",
     "text": [
      "test_accuracy=0.9706000089645386, "
     ]
    },
    {
     "name": "stderr",
     "output_type": "stream",
     "text": [
      "epoch: 17: 100%|██████████| 469/469 [00:08<00:00, 52.56it/s, batch_accuracy=1, loss=1.46]    \n"
     ]
    },
    {
     "name": "stdout",
     "output_type": "stream",
     "text": [
      "test_accuracy=0.9692999720573425, "
     ]
    },
    {
     "name": "stderr",
     "output_type": "stream",
     "text": [
      "epoch: 18: 100%|██████████| 469/469 [00:08<00:00, 52.45it/s, batch_accuracy=0.969, loss=1.49]\n"
     ]
    },
    {
     "name": "stdout",
     "output_type": "stream",
     "text": [
      "test_accuracy=0.9707000255584717, "
     ]
    },
    {
     "name": "stderr",
     "output_type": "stream",
     "text": [
      "epoch: 19: 100%|██████████| 469/469 [00:08<00:00, 53.13it/s, batch_accuracy=0.969, loss=1.49]\n"
     ]
    },
    {
     "name": "stdout",
     "output_type": "stream",
     "text": [
      "test_accuracy=0.970300018787384, "
     ]
    }
   ],
   "source": [
    "# training a model\n",
    "def train(model, n_epochs, learning_rate, name):\n",
    "    optimizer = optim.SGD(model.parameters(), lr=learning_rate)\n",
    "    testing_accuracy = []\n",
    "    average_train_loss = []\n",
    "    for epoch in range(n_epochs):\n",
    "        highest_accuracy = 0\n",
    "        accuracy_train = torchmetrics.Accuracy(num_classes=10)\n",
    "        pbar = tqdm(train_loader, desc=\"epoch: \" + str(epoch))\n",
    "        batch_loss = []\n",
    "        for index, (data, label) in enumerate(pbar):\n",
    "            optimizer.zero_grad()\n",
    "\n",
    "            x = standardize(data, (-2, -1))\n",
    "            x = torch.flatten(x, start_dim=1, end_dim=-1)\n",
    "            y = model(x)\n",
    "\n",
    "            loss = functional.cross_entropy(y, label)\n",
    "            loss.backward()\n",
    "            optimizer.step()\n",
    "\n",
    "            acu = accuracy_train(y, label).item()\n",
    "            pbar.set_postfix({\n",
    "                    'batch_accuracy': acu,\n",
    "                    'loss': loss.item()\n",
    "                })\n",
    "            batch_loss.append(loss.item())\n",
    "\n",
    "        #add average loss to the list\n",
    "        average_train_loss.append(statistics.mean(batch_loss))\n",
    "        #test\n",
    "        accuracy_test = torchmetrics.Accuracy(num_classes=10)\n",
    "\n",
    "        for index, (data, label) in enumerate(test_loader):\n",
    "            x = standardize(data, (-2, -1))\n",
    "            x = torch.flatten(x, start_dim=1, end_dim=-1)\n",
    "            y = model(x)\n",
    "            accuracy_test.update(y, label)\n",
    "\n",
    "        accu_test = accuracy_test.compute().item()\n",
    "        print('test_accuracy='+str(accu_test), end=', ')\n",
    "\n",
    "        #add test loss to the list\n",
    "        testing_accuracy.append(accu_test)\n",
    "\n",
    "        #save the model of highest accuracy\n",
    "        if accu_test > highest_accuracy:\n",
    "            highest_accuracy = accu_test\n",
    "            torch.save(model.state_dict(), r\"checkpoint\"+name)\n",
    "\n",
    "    return testing_accuracy, average_train_loss\n",
    "\n",
    "accuracy, losses = train(model, n_epochs=20, learning_rate=1e-1,name=\"0\")"
   ]
  },
  {
   "cell_type": "markdown",
   "metadata": {
    "collapsed": false
   },
   "source": [
    "## Evaluation\n",
    "you can check the training history using these two variables"
   ]
  },
  {
   "cell_type": "code",
   "execution_count": 34,
   "metadata": {
    "collapsed": false
   },
   "outputs": [
    {
     "name": "stdout",
     "output_type": "stream",
     "text": [
      "[0.36090001463890076, 0.7915999889373779, 0.8242999911308289, 0.8310999870300293, 0.9326000213623047, 0.9398000240325928, 0.9534000158309937, 0.9524000287055969, 0.9585000276565552, 0.9623000025749207, 0.9643999934196472, 0.965399980545044, 0.9682999849319458, 0.9624000191688538, 0.9697999954223633, 0.9695000052452087, 0.9706000089645386, 0.9692999720573425, 0.9707000255584717, 0.970300018787384]\n",
      "[2.288484105169138, 1.8810189690417065, 1.6573966578888233, 1.6306375099906028, 1.5660995267855842, 1.5258160974425294, 1.5157941658613778, 1.5084314534404892, 1.502488561784789, 1.4973143722965265, 1.4941168271148129, 1.4910657260972044, 1.4882612802834907, 1.4855521858882295, 1.4839331310695167, 1.4827773082993432, 1.481055839992027, 1.4796833087132175, 1.4785417191255321, 1.4777768240300322]\n"
     ]
    }
   ],
   "source": [
    "#draw a plot refecting the change of accuracy and losses relative to the number of epoch\n",
    "print(accuracy)\n",
    "print(losses)"
   ]
  },
  {
   "cell_type": "markdown",
   "metadata": {
    "collapsed": false
   },
   "source": [
    "**Q** please draw a plot refecting the change of accuracy and losses relative to the number of epoch"
   ]
  },
  {
   "cell_type": "code",
   "execution_count": 42,
   "metadata": {
    "collapsed": false
   },
   "outputs": [
    {
     "data": {
      "image/png": "[encoded data removed]",
      "text/plain": [
       "<Figure size 432x288 with 2 Axes>"
      ]
     },
     "metadata": {
      "needs_background": "light"
     },
     "output_type": "display_data"
    }
   ],
   "source": [
    "def train_plot(epoach_num,accuracy,losses,learning_rate):\n",
    "    epochs = np.arange(1,epoach_num+1,1)\n",
    "    epochs = epochs.astype(np.int16)\n",
    "    fig, ax = plt.subplots()\n",
    "    ax1=ax.twinx()\n",
    "    line1=ax.plot(epochs, accuracy,\"#1789FC\",label=\"Accuracy\")\n",
    "    line2=ax1.plot(epochs, losses, \"#FDB833\",label=\"Losses\")\n",
    "    lines=line1+line2\n",
    "    labs = [l.get_label() for l in lines]\n",
    "    ax1.legend(lines,labs,loc='right')\n",
    "    ax.set_xlabel(\"Epochs as Lr=\"+str(learning_rate))\n",
    "    ax.set_xlim(0,21)\n",
    "    ax.set_xticks(epochs)\n",
    "    ax.set_ylabel(\"Accuracy\")\n",
    "    ax1.set_ylabel(\"Losses\")\n",
    "train_plot(20,accuracy,losses,0.1)"
   ]
  },
  {
   "cell_type": "markdown",
   "metadata": {
    "collapsed": false
   },
   "source": [
    "**Q** please draw a confusion matrix using test data loader"
   ]
  },
  {
   "cell_type": "code",
   "execution_count": 45,
   "metadata": {
    "collapsed": false
   },
   "outputs": [
    {
     "data": {
      "image/png": "[encoded data removed]",
      "text/plain": [
       "<Figure size 720x504 with 2 Axes>"
      ]
     },
     "metadata": {
      "needs_background": "light"
     },
     "output_type": "display_data"
    }
   ],
   "source": [
    "from sklearn.metrics import confusion_matrix\n",
    "import seaborn as sn\n",
    "#read model for evaluation, using test dataloader to draw\n",
    "model1=create_model()\n",
    "model1.load_state_dict(torch.load(r\"checkpoint\"))\n",
    "def test_model(test_loader,model,Lr):\n",
    "    test_label=[]\n",
    "    prediction=[]\n",
    "    for index, (data, label) in enumerate(test_loader):\n",
    "        x = standardize(data, (-2, -1))\n",
    "        x = torch.flatten(x, start_dim=1, end_dim=-1)\n",
    "        y = model(x)\n",
    "        label=label.detach().numpy()\n",
    "        y=y.detach().numpy()\n",
    "        pred = np.zeros((len(y),1))\n",
    "        for i in range(len(y)):\n",
    "            y0=np.where(y[i]==np.max(y[i]))\n",
    "            pred[i]=y0[0]\n",
    "        test_label=np.append(test_label,label)\n",
    "        prediction=np.append(prediction,pred)\n",
    "    mat1=confusion_matrix(test_label,prediction)\n",
    "    plt.figure(figsize = (10,7))\n",
    "    sn.heatmap(mat1, annot=True)\n",
    "    title=f\"confusion matrix, Lr=\"+str(Lr)\n",
    "    plt.title(title)\n",
    "    plt.ylabel(\"ground truth\")\n",
    "    plt.xlabel(\"predicted\")\n",
    "test_model(test_loader,model1,0.1)"
   ]
  },
  {
   "cell_type": "markdown",
   "metadata": {
    "collapsed": false
   },
   "source": [
    "# validation\n",
    "\n",
    "**Q** please use different learning rate to train the model, then comparing the training process by draw a similar plot mentioned above"
   ]
  },
  {
   "cell_type": "code",
   "execution_count": 43,
   "metadata": {
    "collapsed": false
   },
   "outputs": [
    {
     "name": "stderr",
     "output_type": "stream",
     "text": [
      "epoch: 0: 100%|██████████| 469/469 [00:07<00:00, 61.80it/s, batch_accuracy=0.76, loss=1.7]  \n"
     ]
    },
    {
     "name": "stdout",
     "output_type": "stream",
     "text": [
      "test_accuracy=0.7447999715805054, "
     ]
    },
    {
     "name": "stderr",
     "output_type": "stream",
     "text": [
      "epoch: 1: 100%|██████████| 469/469 [00:07<00:00, 62.59it/s, batch_accuracy=0.875, loss=1.58]\n"
     ]
    },
    {
     "name": "stdout",
     "output_type": "stream",
     "text": [
      "test_accuracy=0.8476999998092651, "
     ]
    },
    {
     "name": "stderr",
     "output_type": "stream",
     "text": [
      "epoch: 2: 100%|██████████| 469/469 [00:07<00:00, 62.26it/s, batch_accuracy=0.896, loss=1.57]\n"
     ]
    },
    {
     "name": "stdout",
     "output_type": "stream",
     "text": [
      "test_accuracy=0.8632000088691711, "
     ]
    },
    {
     "name": "stderr",
     "output_type": "stream",
     "text": [
      "epoch: 3: 100%|██████████| 469/469 [00:07<00:00, 62.32it/s, batch_accuracy=0.885, loss=1.59]\n"
     ]
    },
    {
     "name": "stdout",
     "output_type": "stream",
     "text": [
      "test_accuracy=0.8693000078201294, "
     ]
    },
    {
     "name": "stderr",
     "output_type": "stream",
     "text": [
      "epoch: 4: 100%|██████████| 469/469 [00:07<00:00, 60.88it/s, batch_accuracy=0.906, loss=1.55]\n"
     ]
    },
    {
     "name": "stdout",
     "output_type": "stream",
     "text": [
      "test_accuracy=0.8727999925613403, "
     ]
    },
    {
     "name": "stderr",
     "output_type": "stream",
     "text": [
      "epoch: 5: 100%|██████████| 469/469 [00:07<00:00, 59.91it/s, batch_accuracy=0.917, loss=1.54]\n"
     ]
    },
    {
     "name": "stdout",
     "output_type": "stream",
     "text": [
      "test_accuracy=0.953000009059906, "
     ]
    },
    {
     "name": "stderr",
     "output_type": "stream",
     "text": [
      "epoch: 6: 100%|██████████| 469/469 [00:07<00:00, 60.80it/s, batch_accuracy=0.917, loss=1.54]\n"
     ]
    },
    {
     "name": "stdout",
     "output_type": "stream",
     "text": [
      "test_accuracy=0.9506000280380249, "
     ]
    },
    {
     "name": "stderr",
     "output_type": "stream",
     "text": [
      "epoch: 7: 100%|██████████| 469/469 [00:07<00:00, 61.28it/s, batch_accuracy=0.99, loss=1.48] \n"
     ]
    },
    {
     "name": "stdout",
     "output_type": "stream",
     "text": [
      "test_accuracy=0.9577000141143799, "
     ]
    },
    {
     "name": "stderr",
     "output_type": "stream",
     "text": [
      "epoch: 8: 100%|██████████| 469/469 [00:07<00:00, 61.06it/s, batch_accuracy=0.969, loss=1.49]\n"
     ]
    },
    {
     "name": "stdout",
     "output_type": "stream",
     "text": [
      "test_accuracy=0.9659000039100647, "
     ]
    },
    {
     "name": "stderr",
     "output_type": "stream",
     "text": [
      "epoch: 9: 100%|██████████| 469/469 [00:07<00:00, 60.80it/s, batch_accuracy=0.979, loss=1.48]\n"
     ]
    },
    {
     "name": "stdout",
     "output_type": "stream",
     "text": [
      "test_accuracy=0.968500018119812, "
     ]
    },
    {
     "name": "stderr",
     "output_type": "stream",
     "text": [
      "epoch: 10: 100%|██████████| 469/469 [00:07<00:00, 60.91it/s, batch_accuracy=0.979, loss=1.49]\n"
     ]
    },
    {
     "name": "stdout",
     "output_type": "stream",
     "text": [
      "test_accuracy=0.968999981880188, "
     ]
    },
    {
     "name": "stderr",
     "output_type": "stream",
     "text": [
      "epoch: 11: 100%|██████████| 469/469 [00:07<00:00, 59.73it/s, batch_accuracy=0.958, loss=1.5] \n"
     ]
    },
    {
     "name": "stdout",
     "output_type": "stream",
     "text": [
      "test_accuracy=0.9704999923706055, "
     ]
    },
    {
     "name": "stderr",
     "output_type": "stream",
     "text": [
      "epoch: 12: 100%|██████████| 469/469 [00:07<00:00, 61.48it/s, batch_accuracy=0.958, loss=1.5] \n"
     ]
    },
    {
     "name": "stdout",
     "output_type": "stream",
     "text": [
      "test_accuracy=0.9646999835968018, "
     ]
    },
    {
     "name": "stderr",
     "output_type": "stream",
     "text": [
      "epoch: 13: 100%|██████████| 469/469 [00:07<00:00, 61.94it/s, batch_accuracy=1, loss=1.46]    \n"
     ]
    },
    {
     "name": "stdout",
     "output_type": "stream",
     "text": [
      "test_accuracy=0.9686999917030334, "
     ]
    },
    {
     "name": "stderr",
     "output_type": "stream",
     "text": [
      "epoch: 14: 100%|██████████| 469/469 [00:08<00:00, 53.13it/s, batch_accuracy=0.99, loss=1.48] \n"
     ]
    },
    {
     "name": "stdout",
     "output_type": "stream",
     "text": [
      "test_accuracy=0.9718000292778015, "
     ]
    },
    {
     "name": "stderr",
     "output_type": "stream",
     "text": [
      "epoch: 15: 100%|██████████| 469/469 [00:08<00:00, 52.58it/s, batch_accuracy=0.99, loss=1.47] \n"
     ]
    },
    {
     "name": "stdout",
     "output_type": "stream",
     "text": [
      "test_accuracy=0.9711999893188477, "
     ]
    },
    {
     "name": "stderr",
     "output_type": "stream",
     "text": [
      "epoch: 16: 100%|██████████| 469/469 [00:08<00:00, 58.45it/s, batch_accuracy=0.969, loss=1.49]\n"
     ]
    },
    {
     "name": "stdout",
     "output_type": "stream",
     "text": [
      "test_accuracy=0.9731000065803528, "
     ]
    },
    {
     "name": "stderr",
     "output_type": "stream",
     "text": [
      "epoch: 17: 100%|██████████| 469/469 [00:07<00:00, 61.91it/s, batch_accuracy=0.99, loss=1.48] \n"
     ]
    },
    {
     "name": "stdout",
     "output_type": "stream",
     "text": [
      "test_accuracy=0.9700000286102295, "
     ]
    },
    {
     "name": "stderr",
     "output_type": "stream",
     "text": [
      "epoch: 18: 100%|██████████| 469/469 [00:07<00:00, 64.84it/s, batch_accuracy=0.99, loss=1.47] \n"
     ]
    },
    {
     "name": "stdout",
     "output_type": "stream",
     "text": [
      "test_accuracy=0.9731000065803528, "
     ]
    },
    {
     "name": "stderr",
     "output_type": "stream",
     "text": [
      "epoch: 19: 100%|██████████| 469/469 [00:07<00:00, 62.30it/s, batch_accuracy=0.99, loss=1.47] \n"
     ]
    },
    {
     "name": "stdout",
     "output_type": "stream",
     "text": [
      "test_accuracy=0.9740999937057495, "
     ]
    },
    {
     "name": "stderr",
     "output_type": "stream",
     "text": [
      "epoch: 0: 100%|██████████| 469/469 [00:07<00:00, 60.08it/s, batch_accuracy=0.229, loss=2.3] \n"
     ]
    },
    {
     "name": "stdout",
     "output_type": "stream",
     "text": [
      "test_accuracy=0.23659999668598175, "
     ]
    },
    {
     "name": "stderr",
     "output_type": "stream",
     "text": [
      "epoch: 1: 100%|██████████| 469/469 [00:07<00:00, 61.46it/s, batch_accuracy=0.292, loss=2.2]  \n"
     ]
    },
    {
     "name": "stdout",
     "output_type": "stream",
     "text": [
      "test_accuracy=0.34290000796318054, "
     ]
    },
    {
     "name": "stderr",
     "output_type": "stream",
     "text": [
      "epoch: 2: 100%|██████████| 469/469 [00:07<00:00, 61.87it/s, batch_accuracy=0.688, loss=1.81]\n"
     ]
    },
    {
     "name": "stdout",
     "output_type": "stream",
     "text": [
      "test_accuracy=0.6886000037193298, "
     ]
    },
    {
     "name": "stderr",
     "output_type": "stream",
     "text": [
      "epoch: 3: 100%|██████████| 469/469 [00:07<00:00, 61.52it/s, batch_accuracy=0.781, loss=1.67]\n"
     ]
    },
    {
     "name": "stdout",
     "output_type": "stream",
     "text": [
      "test_accuracy=0.73580002784729, "
     ]
    },
    {
     "name": "stderr",
     "output_type": "stream",
     "text": [
      "epoch: 4: 100%|██████████| 469/469 [00:07<00:00, 61.68it/s, batch_accuracy=0.781, loss=1.69]\n"
     ]
    },
    {
     "name": "stdout",
     "output_type": "stream",
     "text": [
      "test_accuracy=0.8302000164985657, "
     ]
    },
    {
     "name": "stderr",
     "output_type": "stream",
     "text": [
      "epoch: 5: 100%|██████████| 469/469 [00:07<00:00, 62.34it/s, batch_accuracy=0.76, loss=1.69] \n"
     ]
    },
    {
     "name": "stdout",
     "output_type": "stream",
     "text": [
      "test_accuracy=0.845300018787384, "
     ]
    },
    {
     "name": "stderr",
     "output_type": "stream",
     "text": [
      "epoch: 6: 100%|██████████| 469/469 [00:07<00:00, 61.36it/s, batch_accuracy=0.865, loss=1.6] \n"
     ]
    },
    {
     "name": "stdout",
     "output_type": "stream",
     "text": [
      "test_accuracy=0.8539999723434448, "
     ]
    },
    {
     "name": "stderr",
     "output_type": "stream",
     "text": [
      "epoch: 7: 100%|██████████| 469/469 [00:08<00:00, 57.46it/s, batch_accuracy=0.854, loss=1.6] \n"
     ]
    },
    {
     "name": "stdout",
     "output_type": "stream",
     "text": [
      "test_accuracy=0.8539000153541565, "
     ]
    },
    {
     "name": "stderr",
     "output_type": "stream",
     "text": [
      "epoch: 8: 100%|██████████| 469/469 [00:08<00:00, 52.98it/s, batch_accuracy=0.823, loss=1.64]\n"
     ]
    },
    {
     "name": "stdout",
     "output_type": "stream",
     "text": [
      "test_accuracy=0.8539000153541565, "
     ]
    },
    {
     "name": "stderr",
     "output_type": "stream",
     "text": [
      "epoch: 9: 100%|██████████| 469/469 [00:08<00:00, 52.81it/s, batch_accuracy=0.812, loss=1.64]\n"
     ]
    },
    {
     "name": "stdout",
     "output_type": "stream",
     "text": [
      "test_accuracy=0.8616999983787537, "
     ]
    },
    {
     "name": "stderr",
     "output_type": "stream",
     "text": [
      "epoch: 10: 100%|██████████| 469/469 [00:08<00:00, 52.39it/s, batch_accuracy=0.823, loss=1.64]\n"
     ]
    },
    {
     "name": "stdout",
     "output_type": "stream",
     "text": [
      "test_accuracy=0.8654000163078308, "
     ]
    },
    {
     "name": "stderr",
     "output_type": "stream",
     "text": [
      "epoch: 11: 100%|██████████| 469/469 [00:08<00:00, 55.19it/s, batch_accuracy=0.885, loss=1.57]\n"
     ]
    },
    {
     "name": "stdout",
     "output_type": "stream",
     "text": [
      "test_accuracy=0.8669999837875366, "
     ]
    },
    {
     "name": "stderr",
     "output_type": "stream",
     "text": [
      "epoch: 12: 100%|██████████| 469/469 [00:07<00:00, 61.07it/s, batch_accuracy=0.875, loss=1.58]\n"
     ]
    },
    {
     "name": "stdout",
     "output_type": "stream",
     "text": [
      "test_accuracy=0.8693000078201294, "
     ]
    },
    {
     "name": "stderr",
     "output_type": "stream",
     "text": [
      "epoch: 13: 100%|██████████| 469/469 [00:07<00:00, 61.31it/s, batch_accuracy=0.792, loss=1.66]\n"
     ]
    },
    {
     "name": "stdout",
     "output_type": "stream",
     "text": [
      "test_accuracy=0.8701000213623047, "
     ]
    },
    {
     "name": "stderr",
     "output_type": "stream",
     "text": [
      "epoch: 14: 100%|██████████| 469/469 [00:07<00:00, 60.84it/s, batch_accuracy=0.865, loss=1.6] \n"
     ]
    },
    {
     "name": "stdout",
     "output_type": "stream",
     "text": [
      "test_accuracy=0.8729000091552734, "
     ]
    },
    {
     "name": "stderr",
     "output_type": "stream",
     "text": [
      "epoch: 15: 100%|██████████| 469/469 [00:08<00:00, 57.67it/s, batch_accuracy=0.906, loss=1.56]\n"
     ]
    },
    {
     "name": "stdout",
     "output_type": "stream",
     "text": [
      "test_accuracy=0.8715000152587891, "
     ]
    },
    {
     "name": "stderr",
     "output_type": "stream",
     "text": [
      "epoch: 16: 100%|██████████| 469/469 [00:07<00:00, 61.34it/s, batch_accuracy=0.938, loss=1.52]\n"
     ]
    },
    {
     "name": "stdout",
     "output_type": "stream",
     "text": [
      "test_accuracy=0.8745999932289124, "
     ]
    },
    {
     "name": "stderr",
     "output_type": "stream",
     "text": [
      "epoch: 17: 100%|██████████| 469/469 [00:07<00:00, 61.38it/s, batch_accuracy=0.865, loss=1.6] \n"
     ]
    },
    {
     "name": "stdout",
     "output_type": "stream",
     "text": [
      "test_accuracy=0.8762999773025513, "
     ]
    },
    {
     "name": "stderr",
     "output_type": "stream",
     "text": [
      "epoch: 18: 100%|██████████| 469/469 [00:08<00:00, 57.75it/s, batch_accuracy=0.875, loss=1.59]\n"
     ]
    },
    {
     "name": "stdout",
     "output_type": "stream",
     "text": [
      "test_accuracy=0.8781999945640564, "
     ]
    },
    {
     "name": "stderr",
     "output_type": "stream",
     "text": [
      "epoch: 19: 100%|██████████| 469/469 [00:07<00:00, 59.47it/s, batch_accuracy=0.896, loss=1.57]\n"
     ]
    },
    {
     "name": "stdout",
     "output_type": "stream",
     "text": [
      "test_accuracy=0.8787999749183655, "
     ]
    }
   ],
   "source": [
    "model2=create_model()\n",
    "model3=create_model()\n",
    "accuracy1, losses1 = train(model2, n_epochs=20, learning_rate=0.2,name=\"1\")\n",
    "accuracy3, losses3 = train(model3, n_epochs=20, learning_rate=0.05,name=\"2\")"
   ]
  },
  {
   "cell_type": "code",
   "execution_count": 46,
   "metadata": {
    "collapsed": false
   },
   "outputs": [
    {
     "data": {
      "image/png": "[encoded data removed]",
      "text/plain": [
       "<Figure size 432x288 with 2 Axes>"
      ]
     },
     "metadata": {
      "needs_background": "light"
     },
     "output_type": "display_data"
    },
    {
     "data": {
      "image/png": "[encoded data removed]",
      "text/plain": [
       "<Figure size 432x288 with 2 Axes>"
      ]
     },
     "metadata": {
      "needs_background": "light"
     },
     "output_type": "display_data"
    },
    {
     "data": {
      "image/png": "[encoded data removed]",
      "text/plain": [
       "<Figure size 720x504 with 2 Axes>"
      ]
     },
     "metadata": {
      "needs_background": "light"
     },
     "output_type": "display_data"
    },
    {
     "data": {
      "image/png": "[encoded data removed]",
      "text/plain": [
       "<Figure size 720x504 with 2 Axes>"
      ]
     },
     "metadata": {
      "needs_background": "light"
     },
     "output_type": "display_data"
    }
   ],
   "source": [
    "train_plot(20,accuracy1,losses1,0.2)\n",
    "train_plot(20,accuracy3,losses3,0.05)\n",
    "test_model(test_loader,model2,Lr=0.2)\n",
    "test_model(test_loader,model3,Lr=0.05)"
   ]
  },
  {
   "cell_type": "code",
   "execution_count": null,
   "metadata": {},
   "outputs": [],
   "source": [
    "123\n",
    "456\n",
    "789"
   ]
  }
 ],
 "metadata": {
  "kernelspec": {
   "display_name": "Python 3.8 (XPython)",
   "language": "python",
   "name": "xpython"
  },
  "language_info": {
   "codemirror_mode": {
    "name": "ipython",
    "version": 3
   },
   "file_extension": ".py",
   "mimetype": "text/x-python",
   "name": "python",
   "nbconvert_exporter": "python",
   "pygments_lexer": "ipython3",
   "version": "3.8.15 (default, Nov  4 2022, 15:16:59) [MSC v.1916 64 bit (AMD64)]"
  },
  "vscode": {
   "interpreter": {
    "hash": "6b1cd07eb774d9c4a0489bb0d005f19aae17aca6cac9a933a210e3f382dc8d78"
   }
  }
 },
 "nbformat": 4,
 "nbformat_minor": 0
}
